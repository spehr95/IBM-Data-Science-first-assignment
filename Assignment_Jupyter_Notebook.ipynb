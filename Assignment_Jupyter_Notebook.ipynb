{
 "cells": [
  {
   "cell_type": "markdown",
   "metadata": {},
   "source": [
    "<center>\n",
    "    <img src=\"https://cf-courses-data.s3.us.cloud-object-storage.appdomain.cloud/IBMDeveloperSkillsNetwork-DS0105EN-SkillsNetwork/labs/Module2/images/SN_web_lightmode.png\" width=\"300\" alt=\"cognitiveclass.ai logo\"  />\n",
    "</center>\n"
   ]
  },
  {
   "cell_type": "markdown",
   "metadata": {},
   "source": [
    "#### Add your code below following the instructions given in the course\n"
   ]
  },
  {
   "cell_type": "markdown",
   "metadata": {},
   "source": [
    "# My Jupyter Notebook on IBM Watson Studio"
   ]
  },
  {
   "cell_type": "markdown",
   "metadata": {},
   "source": [
    "**Thorge Spehr**\n",
    "\n",
    "**Current Occupation: Process Manager**"
   ]
  },
  {
   "cell_type": "markdown",
   "metadata": {},
   "source": [
    "*I am interested in Data Science because I find it fascinating how it is possible to extract information from a data set to make accurate predictions.*\n",
    "\n",
    "*I am sure convinced that information gained through data science is very valuable.*"
   ]
  },
  {
   "cell_type": "markdown",
   "metadata": {},
   "source": [
    "### The code in the following cell is supposed convert values from Kilometers to Nautical Miles.\n",
    "### First the user is asked to input a km-value. After an input is made, the code returns the input km-value converted to units of nautical miles."
   ]
  },
  {
   "cell_type": "code",
   "execution_count": 10,
   "metadata": {},
   "outputs": [
    {
     "name": "stdin",
     "output_type": "stream",
     "text": [
      "Input the Kilometer value you would like to have converted to nautical miles:  53\n"
     ]
    },
    {
     "name": "stdout",
     "output_type": "stream",
     "text": [
      "53.0 km= 98.156nm\n"
     ]
    }
   ],
   "source": [
    "x=float(input(\"Input the Kilometer value you would like to have converted to nautical miles: \"))\n",
    "def converter(x):\n",
    "    return x*1.852\n",
    "print(\"{} km= {}nm\".format(x,converter(x)))"
   ]
  },
  {
   "cell_type": "markdown",
   "metadata": {},
   "source": [
    "---\n",
    "* List Item 1\n",
    "* List Item 2\n",
    "* List Item 3\n",
    "\n",
    "1. first point\n",
    "2. second point\n",
    "3. third point\n",
    "\n",
    "|a|b|\n",
    "|---|---|\n",
    "|10|14|\n",
    "\n",
    "Hyperlink:\n",
    "<a href=\"https://ibm.com\">Hyperlink to IBM</a>\n",
    "\n",
    "![My Image](https://images.unsplash.com/photo-1541364983171-a8ba01e95cfc?ixlib=rb-4.0.3&ixid=MnwxMjA3fDB8MHxwaG90by1wYWdlfHx8fGVufDB8fHx8&auto=format&fit=crop&w=1287&q=80)\n",
    "\n",
    "\n",
    "```x=float(input(\"Input the Kilometer value you would like to have converted to nautical miles: \"))\n",
    "def converter(x):\n",
    "    return x*1.852\n",
    "print(\"{} km= {}nm\".format(x,converter(x)))```\n",
    "\n",
    "\n",
    ">This looks like an important quote\n",
    "\n",
    "\n",
    "~~strikethrough text~~"
   ]
  }
 ],
 "metadata": {
  "kernelspec": {
   "display_name": "Python",
   "language": "python",
   "name": "conda-env-python-py"
  },
  "language_info": {
   "codemirror_mode": {
    "name": "ipython",
    "version": 3
   },
   "file_extension": ".py",
   "mimetype": "text/x-python",
   "name": "python",
   "nbconvert_exporter": "python",
   "pygments_lexer": "ipython3",
   "version": "3.7.12"
  }
 },
 "nbformat": 4,
 "nbformat_minor": 4
}
